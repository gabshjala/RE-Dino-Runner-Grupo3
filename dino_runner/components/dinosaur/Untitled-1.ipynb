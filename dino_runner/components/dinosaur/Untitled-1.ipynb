{
 "cells": [
  {
   "cell_type": "code",
   "execution_count": null,
   "metadata": {},
   "outputs": [
    {
     "ename": "",
     "evalue": "",
     "output_type": "error",
     "traceback": [
      "\u001b[1;31mLa ejecución de celdas con 'Python 3.10.6 64-bit' requieren el paquete ipykernel.\n",
      "\u001b[1;31mEjecute el siguiente comando para instalar 'ipykernel' en el entorno de Python. comando \n",
      "\u001b[1;31m: 'c:/Python/Python310/python.exe -m pip install ipykernel -U --user --force-reinstall'"
     ]
    }
   ],
   "source": [
    "import pygame, sys #import sys to close vent\n",
    "pygame.init()\n",
    "\n",
    "size=(500,500)\n",
    "#crear venatana\n",
    "screen = pygame.display.set_mode((size))\n",
    "\n",
    "#numbers = (0)\n",
    "#for number in number:\n",
    "   # pass\n",
    "\n",
    "#screen.fill(0,0,0)#colorear fonfo\n",
    "#pygame.display.flip()#actualiza pantalla\n",
    "\n",
    "pygame.draw.line(screen, (255,0,255), [100,100], ([5,3))\n",
    "#para salir\n",
    "while True:\n",
    "    for event in pygame.event.get():\n",
    "        if event.type == pygame.QUIT:   \n",
    "            sys.exit()#salir importa sys antes\n",
    "##aniamcion\n",
    "\n",
    "for x in range(100, 700, 100):\n",
    "    pygame.draw.rect(Screen, BLACK,(x, 230, 50, 50))\n",
    "    pygame.draw.line(screen, GREEN, (x,0), (x,100),5)\n",
    "###aniamcion 4\n",
    "pygame.draw.rect(screen, RED, (400, 240, 80,80)) #x y ancho largo\n",
    "#definimso\n",
    "cord_x= 400\n",
    "cord_y = 200\n",
    "#velo del ciad\n",
    "speed_x= 3\n",
    "speed_y = 3\n",
    "\n",
    "\n",
    "#en loop\n",
    "cord_x+= speed_x\n",
    "\n",
    "#al correr va a vel luz\n",
    "then# add to scren invocation // screen = pygame.display. set_mode()   \n",
    "#clock = pygame.time.Clock PARA CONTROLAR EL TIMEPO\n",
    "\n",
    "clock.tick(60)"
   ]
  },
  {
   "cell_type": "code",
   "execution_count": null,
   "metadata": {},
   "outputs": [],
   "source": [
    "#video 4\n",
    "import pygame, sys #import sys to close vent\n",
    "pygame.init()\n",
    "\n",
    "size=(500,500)\n",
    "#crear venatana\n",
    "screen = pygame.display.set_mode((size))\n",
    "\n",
    "#numbers = (0)\n",
    "#for number in number:\n",
    "   # pass\n",
    "\n",
    "#screen.fill(0,0,0)#colorear fonfo\n",
    "#pygame.display.flip()#actualiza pantalla\n",
    "\n",
    "pygame.draw.line(screen, (255,0,255), [100,100], ([5,3))\n",
    "#para salir\n",
    "while True:\n",
    "    for event in pygame.event.get():\n",
    "        if event.type == pygame.QUIT:   \n",
    "            sys.exit()#salir importa sys antes\n",
    "##aniamcion\n",
    "\n",
    "for x in range(100, 700, 100):\n",
    "    pygame.draw.rect(Screen, BLACK,(x, 230, 50, 50))\n",
    "    pygame.draw.line(screen, GREEN, (x,0), (x,100),5)\n",
    "###aniamcion 4\n",
    "pygame.draw.rect(screen, RED, (400, 240, 80,80)) #x y ancho largo\n",
    "#definimso\n",
    "cord_x= 400\n",
    "cord_y = 200\n",
    "#velo del ciad\n",
    "speed_x= 3\n",
    "speed_y = 3\n",
    "\n",
    "\n",
    "#en loop\n",
    "cord_x+= speed_x\n",
    "\n",
    "#al correr va a vel luz\n",
    "then# add to scren invocation // screen = pygame.display. set_mode()   \n",
    "#clock = pygame.time.Clock PARA CONTROLAR EL TIMEPO\n",
    "\n",
    "clock.tick(60)"
   ]
  }
 ],
 "metadata": {
  "kernelspec": {
   "display_name": "Python 3.10.6 64-bit",
   "language": "python",
   "name": "python3"
  },
  "language_info": {
   "name": "python",
   "version": "3.10.6"
  },
  "orig_nbformat": 4,
  "vscode": {
   "interpreter": {
    "hash": "d3e10ef16274dd72e574b8fa73b58450b957d8421a2901baded3cca26fcf5dda"
   }
  }
 },
 "nbformat": 4,
 "nbformat_minor": 2
}
